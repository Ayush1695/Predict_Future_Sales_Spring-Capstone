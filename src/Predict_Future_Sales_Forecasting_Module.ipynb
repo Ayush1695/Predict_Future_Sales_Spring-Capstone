{
 "cells": [
  {
   "cell_type": "code",
   "execution_count": 50,
   "id": "7f5003d6",
   "metadata": {
    "ExecuteTime": {
     "end_time": "2024-01-09T03:27:54.181902Z",
     "start_time": "2024-01-09T03:27:54.173487Z"
    }
   },
   "outputs": [],
   "source": [
    "# Author: Ayush Oturkar\n",
    "# Topic: Predict Future Sales\n",
    "\n",
    "# Data Manipulation packages\n",
    "import pandas as pd\n",
    "import numpy as np\n",
    "import os\n",
    "\n",
    "# Data Visualization packages\n",
    "import seaborn as sns\n",
    "import matplotlib.pyplot as plt\n",
    "\n",
    "# %#matplotlib inline\n",
    "\n",
    "from itertools import product\n",
    "\n",
    "# For proper display of all columns\n",
    "from IPython.display import display\n",
    "\n",
    "pd.options.display.max_columns = None\n",
    "\n",
    "# Import warnings\n",
    "import warnings\n",
    "\n",
    "warnings.filterwarnings(\"ignore\")\n",
    "\n",
    "# Sklearn required packages\n",
    "from sklearn.preprocessing import LabelEncoder\n",
    "\n",
    "# Import all the modelling packages\n",
    "import xgboost as xgb\n",
    "import lightgbm as lgb\n",
    "\n",
    "import gc\n",
    "\n",
    "# Deep Learning modules"
   ]
  },
  {
   "cell_type": "markdown",
   "id": "a94a29b5",
   "metadata": {},
   "source": [
    "# Utility Functions"
   ]
  },
  {
   "cell_type": "code",
   "execution_count": 51,
   "id": "78244c67",
   "metadata": {
    "ExecuteTime": {
     "end_time": "2024-01-09T03:27:55.283349Z",
     "start_time": "2024-01-09T03:27:55.268110Z"
    }
   },
   "outputs": [],
   "source": [
    "# Funtion to check the missing value count and percentage\n",
    "def missing_val_check(data):\n",
    "    \"\"\"\n",
    "    Input::data - A pandas dataframe\n",
    "    Output::Missing value report by column\n",
    "    \"\"\"\n",
    "    # Missing data check\n",
    "    total = data.isnull().sum().sort_values(ascending=False)\n",
    "    percent = (data.isnull().sum() / data.isnull().count()).sort_values(ascending=False)\n",
    "    missing_data = pd.concat(\n",
    "        [total, percent * 100], axis=1, keys=[\"Total\", \"Percent(%)\"]\n",
    "    )\n",
    "    return missing_data\n",
    "\n",
    "\n",
    "def get_boxplots(train_data):\n",
    "    # Extract numerical columns\n",
    "    numeric_columns = list(train_data.select_dtypes(include=['number']).columns)\n",
    "\n",
    "    # Set up subplots\n",
    "    num_plots = len(numeric_columns)\n",
    "    num_rows = (num_plots // 2) + (num_plots % 2)\n",
    "    fig, axes = plt.subplots(nrows=num_rows, ncols=2, figsize=(12, 2 * num_rows))\n",
    "\n",
    "    # Helper function to format column names\n",
    "    def format_column_name(column_name):\n",
    "        return column_name.replace(\"_\", \" \").capitalize()\n",
    "\n",
    "    # Plot box plots for each numeric column\n",
    "    for idx, column in enumerate(numeric_columns):\n",
    "        row = idx // 2\n",
    "        col = idx % 2\n",
    "\n",
    "        try:\n",
    "            sns.boxplot(train_data[column], ax=axes[row, col], color=\"red\")\n",
    "            axes[row, col].set_xlabel(format_column_name(column))\n",
    "        except Exception as e:\n",
    "            # Handle exceptions, such as when there are not enough subplots for all numeric columns\n",
    "            print(f\"Error plotting {column}: {e}\")\n",
    "\n",
    "    # Adjust layout and show plots\n",
    "    plt.tight_layout()\n",
    "    plt.show()"
   ]
  },
  {
   "cell_type": "markdown",
   "id": "1255f7fd",
   "metadata": {
    "ExecuteTime": {
     "end_time": "2024-01-07T21:58:32.707071Z",
     "start_time": "2024-01-07T21:58:32.701964Z"
    }
   },
   "source": [
    "# Loading the Dataset"
   ]
  },
  {
   "cell_type": "code",
   "execution_count": 52,
   "id": "397b3701",
   "metadata": {
    "ExecuteTime": {
     "end_time": "2024-01-09T03:28:00.428207Z",
     "start_time": "2024-01-09T03:27:59.141693Z"
    }
   },
   "outputs": [],
   "source": [
    "# Provide the data folder path\n",
    "folder_path = \"../data\"\n",
    "\n",
    "# Loading the datasets\n",
    "items = pd.read_csv(os.path.join(folder_path, \"items.csv\"))\n",
    "shops = pd.read_csv(os.path.join(folder_path, \"shops.csv\"))\n",
    "item_cats = pd.read_csv(os.path.join(folder_path, \"item_categories.csv\"))\n",
    "train = pd.read_csv(os.path.join(folder_path, \"sales_train.csv\"))\n",
    "\n",
    "# Setting index to ID to avoid droping it later\n",
    "test = pd.read_csv(os.path.join(folder_path, \"test.csv\")).set_index(\"ID\")\n",
    "\n",
    "# Creating a data dictionary for later usage -- ***Move it somewhere else**\n",
    "train_data_dict = {\"items\": items, \"shops\": shops, \"cats\": item_cats, \"train\": train}"
   ]
  },
  {
   "cell_type": "code",
   "execution_count": 53,
   "id": "55259a0c",
   "metadata": {
    "ExecuteTime": {
     "end_time": "2024-01-09T03:28:01.182249Z",
     "start_time": "2024-01-09T03:28:01.170939Z"
    }
   },
   "outputs": [
    {
     "data": {
      "text/html": [
       "<div>\n",
       "<style scoped>\n",
       "    .dataframe tbody tr th:only-of-type {\n",
       "        vertical-align: middle;\n",
       "    }\n",
       "\n",
       "    .dataframe tbody tr th {\n",
       "        vertical-align: top;\n",
       "    }\n",
       "\n",
       "    .dataframe thead th {\n",
       "        text-align: right;\n",
       "    }\n",
       "</style>\n",
       "<table border=\"1\" class=\"dataframe\">\n",
       "  <thead>\n",
       "    <tr style=\"text-align: right;\">\n",
       "      <th></th>\n",
       "      <th>item_name</th>\n",
       "      <th>item_id</th>\n",
       "      <th>item_category_id</th>\n",
       "    </tr>\n",
       "  </thead>\n",
       "  <tbody>\n",
       "    <tr>\n",
       "      <th>0</th>\n",
       "      <td>! ВО ВЛАСТИ НАВАЖДЕНИЯ (ПЛАСТ.)         D</td>\n",
       "      <td>0</td>\n",
       "      <td>40</td>\n",
       "    </tr>\n",
       "    <tr>\n",
       "      <th>1</th>\n",
       "      <td>!ABBYY FineReader 12 Professional Edition Full...</td>\n",
       "      <td>1</td>\n",
       "      <td>76</td>\n",
       "    </tr>\n",
       "    <tr>\n",
       "      <th>2</th>\n",
       "      <td>***В ЛУЧАХ СЛАВЫ   (UNV)                    D</td>\n",
       "      <td>2</td>\n",
       "      <td>40</td>\n",
       "    </tr>\n",
       "    <tr>\n",
       "      <th>3</th>\n",
       "      <td>***ГОЛУБАЯ ВОЛНА  (Univ)                      D</td>\n",
       "      <td>3</td>\n",
       "      <td>40</td>\n",
       "    </tr>\n",
       "    <tr>\n",
       "      <th>4</th>\n",
       "      <td>***КОРОБКА (СТЕКЛО)                       D</td>\n",
       "      <td>4</td>\n",
       "      <td>40</td>\n",
       "    </tr>\n",
       "  </tbody>\n",
       "</table>\n",
       "</div>"
      ],
      "text/plain": [
       "                                           item_name  item_id  \\\n",
       "0          ! ВО ВЛАСТИ НАВАЖДЕНИЯ (ПЛАСТ.)         D        0   \n",
       "1  !ABBYY FineReader 12 Professional Edition Full...        1   \n",
       "2      ***В ЛУЧАХ СЛАВЫ   (UNV)                    D        2   \n",
       "3    ***ГОЛУБАЯ ВОЛНА  (Univ)                      D        3   \n",
       "4        ***КОРОБКА (СТЕКЛО)                       D        4   \n",
       "\n",
       "   item_category_id  \n",
       "0                40  \n",
       "1                76  \n",
       "2                40  \n",
       "3                40  \n",
       "4                40  "
      ]
     },
     "execution_count": 53,
     "metadata": {},
     "output_type": "execute_result"
    }
   ],
   "source": [
    "# Taking a look at snap of data\n",
    "items.head()"
   ]
  },
  {
   "cell_type": "code",
   "execution_count": 54,
   "id": "6b902ecc",
   "metadata": {
    "ExecuteTime": {
     "end_time": "2024-01-09T03:28:01.480740Z",
     "start_time": "2024-01-09T03:28:01.468004Z"
    }
   },
   "outputs": [
    {
     "data": {
      "text/html": [
       "<div>\n",
       "<style scoped>\n",
       "    .dataframe tbody tr th:only-of-type {\n",
       "        vertical-align: middle;\n",
       "    }\n",
       "\n",
       "    .dataframe tbody tr th {\n",
       "        vertical-align: top;\n",
       "    }\n",
       "\n",
       "    .dataframe thead th {\n",
       "        text-align: right;\n",
       "    }\n",
       "</style>\n",
       "<table border=\"1\" class=\"dataframe\">\n",
       "  <thead>\n",
       "    <tr style=\"text-align: right;\">\n",
       "      <th></th>\n",
       "      <th>shop_name</th>\n",
       "      <th>shop_id</th>\n",
       "    </tr>\n",
       "  </thead>\n",
       "  <tbody>\n",
       "    <tr>\n",
       "      <th>0</th>\n",
       "      <td>!Якутск Орджоникидзе, 56 фран</td>\n",
       "      <td>0</td>\n",
       "    </tr>\n",
       "    <tr>\n",
       "      <th>1</th>\n",
       "      <td>!Якутск ТЦ \"Центральный\" фран</td>\n",
       "      <td>1</td>\n",
       "    </tr>\n",
       "    <tr>\n",
       "      <th>2</th>\n",
       "      <td>Адыгея ТЦ \"Мега\"</td>\n",
       "      <td>2</td>\n",
       "    </tr>\n",
       "    <tr>\n",
       "      <th>3</th>\n",
       "      <td>Балашиха ТРК \"Октябрь-Киномир\"</td>\n",
       "      <td>3</td>\n",
       "    </tr>\n",
       "    <tr>\n",
       "      <th>4</th>\n",
       "      <td>Волжский ТЦ \"Волга Молл\"</td>\n",
       "      <td>4</td>\n",
       "    </tr>\n",
       "  </tbody>\n",
       "</table>\n",
       "</div>"
      ],
      "text/plain": [
       "                        shop_name  shop_id\n",
       "0   !Якутск Орджоникидзе, 56 фран        0\n",
       "1   !Якутск ТЦ \"Центральный\" фран        1\n",
       "2                Адыгея ТЦ \"Мега\"        2\n",
       "3  Балашиха ТРК \"Октябрь-Киномир\"        3\n",
       "4        Волжский ТЦ \"Волга Молл\"        4"
      ]
     },
     "execution_count": 54,
     "metadata": {},
     "output_type": "execute_result"
    }
   ],
   "source": [
    "shops.head()"
   ]
  },
  {
   "cell_type": "code",
   "execution_count": 55,
   "id": "67eec7e1",
   "metadata": {
    "ExecuteTime": {
     "end_time": "2024-01-09T03:28:01.858522Z",
     "start_time": "2024-01-09T03:28:01.847089Z"
    }
   },
   "outputs": [
    {
     "data": {
      "text/html": [
       "<div>\n",
       "<style scoped>\n",
       "    .dataframe tbody tr th:only-of-type {\n",
       "        vertical-align: middle;\n",
       "    }\n",
       "\n",
       "    .dataframe tbody tr th {\n",
       "        vertical-align: top;\n",
       "    }\n",
       "\n",
       "    .dataframe thead th {\n",
       "        text-align: right;\n",
       "    }\n",
       "</style>\n",
       "<table border=\"1\" class=\"dataframe\">\n",
       "  <thead>\n",
       "    <tr style=\"text-align: right;\">\n",
       "      <th></th>\n",
       "      <th>item_category_name</th>\n",
       "      <th>item_category_id</th>\n",
       "    </tr>\n",
       "  </thead>\n",
       "  <tbody>\n",
       "    <tr>\n",
       "      <th>0</th>\n",
       "      <td>PC - Гарнитуры/Наушники</td>\n",
       "      <td>0</td>\n",
       "    </tr>\n",
       "    <tr>\n",
       "      <th>1</th>\n",
       "      <td>Аксессуары - PS2</td>\n",
       "      <td>1</td>\n",
       "    </tr>\n",
       "    <tr>\n",
       "      <th>2</th>\n",
       "      <td>Аксессуары - PS3</td>\n",
       "      <td>2</td>\n",
       "    </tr>\n",
       "    <tr>\n",
       "      <th>3</th>\n",
       "      <td>Аксессуары - PS4</td>\n",
       "      <td>3</td>\n",
       "    </tr>\n",
       "    <tr>\n",
       "      <th>4</th>\n",
       "      <td>Аксессуары - PSP</td>\n",
       "      <td>4</td>\n",
       "    </tr>\n",
       "  </tbody>\n",
       "</table>\n",
       "</div>"
      ],
      "text/plain": [
       "        item_category_name  item_category_id\n",
       "0  PC - Гарнитуры/Наушники                 0\n",
       "1         Аксессуары - PS2                 1\n",
       "2         Аксессуары - PS3                 2\n",
       "3         Аксессуары - PS4                 3\n",
       "4         Аксессуары - PSP                 4"
      ]
     },
     "execution_count": 55,
     "metadata": {},
     "output_type": "execute_result"
    }
   ],
   "source": [
    "item_cats.head()"
   ]
  },
  {
   "cell_type": "code",
   "execution_count": 56,
   "id": "6ccb9e1c",
   "metadata": {
    "ExecuteTime": {
     "end_time": "2024-01-09T03:28:02.415372Z",
     "start_time": "2024-01-09T03:28:02.398029Z"
    }
   },
   "outputs": [
    {
     "data": {
      "text/html": [
       "<div>\n",
       "<style scoped>\n",
       "    .dataframe tbody tr th:only-of-type {\n",
       "        vertical-align: middle;\n",
       "    }\n",
       "\n",
       "    .dataframe tbody tr th {\n",
       "        vertical-align: top;\n",
       "    }\n",
       "\n",
       "    .dataframe thead th {\n",
       "        text-align: right;\n",
       "    }\n",
       "</style>\n",
       "<table border=\"1\" class=\"dataframe\">\n",
       "  <thead>\n",
       "    <tr style=\"text-align: right;\">\n",
       "      <th></th>\n",
       "      <th>date</th>\n",
       "      <th>date_block_num</th>\n",
       "      <th>shop_id</th>\n",
       "      <th>item_id</th>\n",
       "      <th>item_price</th>\n",
       "      <th>item_cnt_day</th>\n",
       "    </tr>\n",
       "  </thead>\n",
       "  <tbody>\n",
       "    <tr>\n",
       "      <th>0</th>\n",
       "      <td>02.01.2013</td>\n",
       "      <td>0</td>\n",
       "      <td>59</td>\n",
       "      <td>22154</td>\n",
       "      <td>999.00</td>\n",
       "      <td>1.0</td>\n",
       "    </tr>\n",
       "    <tr>\n",
       "      <th>1</th>\n",
       "      <td>03.01.2013</td>\n",
       "      <td>0</td>\n",
       "      <td>25</td>\n",
       "      <td>2552</td>\n",
       "      <td>899.00</td>\n",
       "      <td>1.0</td>\n",
       "    </tr>\n",
       "    <tr>\n",
       "      <th>2</th>\n",
       "      <td>05.01.2013</td>\n",
       "      <td>0</td>\n",
       "      <td>25</td>\n",
       "      <td>2552</td>\n",
       "      <td>899.00</td>\n",
       "      <td>-1.0</td>\n",
       "    </tr>\n",
       "    <tr>\n",
       "      <th>3</th>\n",
       "      <td>06.01.2013</td>\n",
       "      <td>0</td>\n",
       "      <td>25</td>\n",
       "      <td>2554</td>\n",
       "      <td>1709.05</td>\n",
       "      <td>1.0</td>\n",
       "    </tr>\n",
       "    <tr>\n",
       "      <th>4</th>\n",
       "      <td>15.01.2013</td>\n",
       "      <td>0</td>\n",
       "      <td>25</td>\n",
       "      <td>2555</td>\n",
       "      <td>1099.00</td>\n",
       "      <td>1.0</td>\n",
       "    </tr>\n",
       "  </tbody>\n",
       "</table>\n",
       "</div>"
      ],
      "text/plain": [
       "         date  date_block_num  shop_id  item_id  item_price  item_cnt_day\n",
       "0  02.01.2013               0       59    22154      999.00           1.0\n",
       "1  03.01.2013               0       25     2552      899.00           1.0\n",
       "2  05.01.2013               0       25     2552      899.00          -1.0\n",
       "3  06.01.2013               0       25     2554     1709.05           1.0\n",
       "4  15.01.2013               0       25     2555     1099.00           1.0"
      ]
     },
     "execution_count": 56,
     "metadata": {},
     "output_type": "execute_result"
    }
   ],
   "source": [
    "train.head()"
   ]
  },
  {
   "cell_type": "markdown",
   "id": "69bdb5b8",
   "metadata": {},
   "source": [
    "**date_block_num - a consecutive month number, used for convenience. January 2013 is 0, February 2013 is 1,..., October 2015 is 33** \n",
    "- Important variable for forecasting"
   ]
  },
  {
   "cell_type": "code",
   "execution_count": 57,
   "id": "d3a2a9d5",
   "metadata": {
    "ExecuteTime": {
     "end_time": "2024-01-09T03:28:03.070579Z",
     "start_time": "2024-01-09T03:28:03.059385Z"
    }
   },
   "outputs": [
    {
     "data": {
      "text/html": [
       "<div>\n",
       "<style scoped>\n",
       "    .dataframe tbody tr th:only-of-type {\n",
       "        vertical-align: middle;\n",
       "    }\n",
       "\n",
       "    .dataframe tbody tr th {\n",
       "        vertical-align: top;\n",
       "    }\n",
       "\n",
       "    .dataframe thead th {\n",
       "        text-align: right;\n",
       "    }\n",
       "</style>\n",
       "<table border=\"1\" class=\"dataframe\">\n",
       "  <thead>\n",
       "    <tr style=\"text-align: right;\">\n",
       "      <th></th>\n",
       "      <th>shop_id</th>\n",
       "      <th>item_id</th>\n",
       "    </tr>\n",
       "    <tr>\n",
       "      <th>ID</th>\n",
       "      <th></th>\n",
       "      <th></th>\n",
       "    </tr>\n",
       "  </thead>\n",
       "  <tbody>\n",
       "    <tr>\n",
       "      <th>0</th>\n",
       "      <td>5</td>\n",
       "      <td>5037</td>\n",
       "    </tr>\n",
       "    <tr>\n",
       "      <th>1</th>\n",
       "      <td>5</td>\n",
       "      <td>5320</td>\n",
       "    </tr>\n",
       "    <tr>\n",
       "      <th>2</th>\n",
       "      <td>5</td>\n",
       "      <td>5233</td>\n",
       "    </tr>\n",
       "    <tr>\n",
       "      <th>3</th>\n",
       "      <td>5</td>\n",
       "      <td>5232</td>\n",
       "    </tr>\n",
       "    <tr>\n",
       "      <th>4</th>\n",
       "      <td>5</td>\n",
       "      <td>5268</td>\n",
       "    </tr>\n",
       "  </tbody>\n",
       "</table>\n",
       "</div>"
      ],
      "text/plain": [
       "    shop_id  item_id\n",
       "ID                  \n",
       "0         5     5037\n",
       "1         5     5320\n",
       "2         5     5233\n",
       "3         5     5232\n",
       "4         5     5268"
      ]
     },
     "execution_count": 57,
     "metadata": {},
     "output_type": "execute_result"
    }
   ],
   "source": [
    "test.head()"
   ]
  },
  {
   "cell_type": "markdown",
   "id": "a68933cb",
   "metadata": {
    "ExecuteTime": {
     "end_time": "2024-01-08T00:20:04.228282Z",
     "start_time": "2024-01-08T00:20:04.216983Z"
    }
   },
   "source": [
    "**Objective: To forecast the sales for these shops and products for November 2015.**"
   ]
  },
  {
   "cell_type": "markdown",
   "id": "8b64e9ed",
   "metadata": {},
   "source": [
    "# Data Cleaning & Pre-Processing"
   ]
  },
  {
   "cell_type": "code",
   "execution_count": 58,
   "id": "f2086260",
   "metadata": {
    "ExecuteTime": {
     "end_time": "2024-01-09T03:28:05.881242Z",
     "start_time": "2024-01-09T03:28:05.101547Z"
    }
   },
   "outputs": [
    {
     "name": "stdout",
     "output_type": "stream",
     "text": [
      "\n",
      "====ITEMS data missing value count:====\n",
      "                  Total  Percent(%)\n",
      "item_name             0         0.0\n",
      "item_id               0         0.0\n",
      "item_category_id      0         0.0\n",
      "\n",
      "====SHOPS data missing value count:====\n",
      "           Total  Percent(%)\n",
      "shop_name      0         0.0\n",
      "shop_id        0         0.0\n",
      "\n",
      "====CATS data missing value count:====\n",
      "                    Total  Percent(%)\n",
      "item_category_name      0         0.0\n",
      "item_category_id        0         0.0\n",
      "\n",
      "====TRAIN data missing value count:====\n",
      "                Total  Percent(%)\n",
      "date                0         0.0\n",
      "date_block_num      0         0.0\n",
      "shop_id             0         0.0\n",
      "item_id             0         0.0\n",
      "item_price          0         0.0\n",
      "item_cnt_day        0         0.0\n"
     ]
    }
   ],
   "source": [
    "# Lets check the missing\n",
    "for df, i in train_data_dict.items():\n",
    "    print(\n",
    "        \"\\n===={} data missing value count:====\\n{}\".format(\n",
    "            df.upper(), missing_val_check(i)\n",
    "        )\n",
    "    )"
   ]
  },
  {
   "cell_type": "code",
   "execution_count": 59,
   "id": "8a8bf014",
   "metadata": {
    "ExecuteTime": {
     "end_time": "2024-01-09T03:28:06.307085Z",
     "start_time": "2024-01-09T03:28:06.053416Z"
    }
   },
   "outputs": [
    {
     "data": {
      "text/html": [
       "<div>\n",
       "<style scoped>\n",
       "    .dataframe tbody tr th:only-of-type {\n",
       "        vertical-align: middle;\n",
       "    }\n",
       "\n",
       "    .dataframe tbody tr th {\n",
       "        vertical-align: top;\n",
       "    }\n",
       "\n",
       "    .dataframe thead th {\n",
       "        text-align: right;\n",
       "    }\n",
       "</style>\n",
       "<table border=\"1\" class=\"dataframe\">\n",
       "  <thead>\n",
       "    <tr style=\"text-align: right;\">\n",
       "      <th></th>\n",
       "      <th>date_block_num</th>\n",
       "      <th>shop_id</th>\n",
       "      <th>item_id</th>\n",
       "      <th>item_price</th>\n",
       "      <th>item_cnt_day</th>\n",
       "    </tr>\n",
       "  </thead>\n",
       "  <tbody>\n",
       "    <tr>\n",
       "      <th>count</th>\n",
       "      <td>2.935849e+06</td>\n",
       "      <td>2.935849e+06</td>\n",
       "      <td>2.935849e+06</td>\n",
       "      <td>2.935849e+06</td>\n",
       "      <td>2.935849e+06</td>\n",
       "    </tr>\n",
       "    <tr>\n",
       "      <th>mean</th>\n",
       "      <td>1.456991e+01</td>\n",
       "      <td>3.300173e+01</td>\n",
       "      <td>1.019723e+04</td>\n",
       "      <td>8.908532e+02</td>\n",
       "      <td>1.242641e+00</td>\n",
       "    </tr>\n",
       "    <tr>\n",
       "      <th>std</th>\n",
       "      <td>9.422988e+00</td>\n",
       "      <td>1.622697e+01</td>\n",
       "      <td>6.324297e+03</td>\n",
       "      <td>1.729800e+03</td>\n",
       "      <td>2.618834e+00</td>\n",
       "    </tr>\n",
       "    <tr>\n",
       "      <th>min</th>\n",
       "      <td>0.000000e+00</td>\n",
       "      <td>0.000000e+00</td>\n",
       "      <td>0.000000e+00</td>\n",
       "      <td>-1.000000e+00</td>\n",
       "      <td>-2.200000e+01</td>\n",
       "    </tr>\n",
       "    <tr>\n",
       "      <th>25%</th>\n",
       "      <td>7.000000e+00</td>\n",
       "      <td>2.200000e+01</td>\n",
       "      <td>4.476000e+03</td>\n",
       "      <td>2.490000e+02</td>\n",
       "      <td>1.000000e+00</td>\n",
       "    </tr>\n",
       "    <tr>\n",
       "      <th>50%</th>\n",
       "      <td>1.400000e+01</td>\n",
       "      <td>3.100000e+01</td>\n",
       "      <td>9.343000e+03</td>\n",
       "      <td>3.990000e+02</td>\n",
       "      <td>1.000000e+00</td>\n",
       "    </tr>\n",
       "    <tr>\n",
       "      <th>75%</th>\n",
       "      <td>2.300000e+01</td>\n",
       "      <td>4.700000e+01</td>\n",
       "      <td>1.568400e+04</td>\n",
       "      <td>9.990000e+02</td>\n",
       "      <td>1.000000e+00</td>\n",
       "    </tr>\n",
       "    <tr>\n",
       "      <th>max</th>\n",
       "      <td>3.300000e+01</td>\n",
       "      <td>5.900000e+01</td>\n",
       "      <td>2.216900e+04</td>\n",
       "      <td>3.079800e+05</td>\n",
       "      <td>2.169000e+03</td>\n",
       "    </tr>\n",
       "  </tbody>\n",
       "</table>\n",
       "</div>"
      ],
      "text/plain": [
       "       date_block_num       shop_id       item_id    item_price  item_cnt_day\n",
       "count    2.935849e+06  2.935849e+06  2.935849e+06  2.935849e+06  2.935849e+06\n",
       "mean     1.456991e+01  3.300173e+01  1.019723e+04  8.908532e+02  1.242641e+00\n",
       "std      9.422988e+00  1.622697e+01  6.324297e+03  1.729800e+03  2.618834e+00\n",
       "min      0.000000e+00  0.000000e+00  0.000000e+00 -1.000000e+00 -2.200000e+01\n",
       "25%      7.000000e+00  2.200000e+01  4.476000e+03  2.490000e+02  1.000000e+00\n",
       "50%      1.400000e+01  3.100000e+01  9.343000e+03  3.990000e+02  1.000000e+00\n",
       "75%      2.300000e+01  4.700000e+01  1.568400e+04  9.990000e+02  1.000000e+00\n",
       "max      3.300000e+01  5.900000e+01  2.216900e+04  3.079800e+05  2.169000e+03"
      ]
     },
     "execution_count": 59,
     "metadata": {},
     "output_type": "execute_result"
    }
   ],
   "source": [
    "train.describe()"
   ]
  },
  {
   "cell_type": "markdown",
   "id": "cd730a90",
   "metadata": {
    "ExecuteTime": {
     "end_time": "2024-01-08T03:13:14.360454Z",
     "start_time": "2024-01-08T03:13:14.350640Z"
    }
   },
   "source": [
    "**Check for outliers in the present numeric features**"
   ]
  },
  {
   "cell_type": "code",
   "execution_count": 60,
   "id": "320d955b",
   "metadata": {
    "ExecuteTime": {
     "end_time": "2024-01-09T03:28:09.055346Z",
     "start_time": "2024-01-09T03:28:08.242985Z"
    }
   },
   "outputs": [
    {
     "data": {
      "image/png": "[encoded data removed]",
      "text/plain": [
       "<Figure size 1200x600 with 6 Axes>"
      ]
     },
     "metadata": {},
     "output_type": "display_data"
    }
   ],
   "source": [
    "get_boxplots(train)"
   ]
  },
  {
   "cell_type": "markdown",
   "id": "af2010d0",
   "metadata": {},
   "source": [
    "**Outlier Treatment for Enhanced Data Integrity**\n",
    "\n",
    "Visual analysis revealed outliers within the item price and item cnt day features. To maintain data integrity and model accuracy, these outliers were addressed through a multi-pronged approach:\n",
    "\n",
    "**Item Price:**\n",
    "\n",
    "- Item Proce exceeding a benchmark of 50,000 will be removed based on visual observations of high price concentration.\n",
    "- A minimum price threshold of 0 should be applied to ensure realistic product pricing.\n",
    "\n",
    "**Target Variable:**\n",
    "\n",
    "- Outliers surpassing 500 will excluded, aligning with observations of value concentration and instruction-provided clipping range.\n",
    "- Subsequent clipping between 0 and 20 will be implemented to focus model training within this specified range, promoting accurate predictions.\n",
    "\n",
    "**Trend Analysis Prior to Clipping:**\n",
    "\n",
    "- Trend analysis was conducted before final clipping to glean potential insights from outlier patterns and assess their genuineness.\n",
    "\n",
    "**Rationale:**\n",
    "\n",
    "- Outlier removal and clipping safeguard model robustness and prevent undue influence from atypical values.\n",
    "- Aligning feature ranges with known business constraints and expected value distributions bolsters model accuracy and interpretability.\n",
    "- Trend analysis preceding clipping safeguards against premature removal of potentially informative data points."
   ]
  },
  {
   "cell_type": "code",
   "execution_count": 61,
   "id": "ec102fb1",
   "metadata": {
    "ExecuteTime": {
     "end_time": "2024-01-09T03:28:30.240858Z",
     "start_time": "2024-01-09T03:28:30.081934Z"
    }
   },
   "outputs": [
    {
     "data": {
      "text/plain": [
       "33626"
      ]
     },
     "execution_count": 61,
     "metadata": {},
     "output_type": "execute_result"
    }
   ],
   "source": [
    "# Treatment as stated\n",
    "train = train.loc[\n",
    "    (train[\"item_price\"] > 0)\n",
    "    & (train[\"item_price\"] < 50000)\n",
    "    & (train[\"item_cnt_day\"] < 500)\n",
    "]\n",
    "\n",
    "gc.collect()"
   ]
  },
  {
   "cell_type": "code",
   "execution_count": 62,
   "id": "67a66997",
   "metadata": {
    "ExecuteTime": {
     "end_time": "2024-01-09T03:28:47.430028Z",
     "start_time": "2024-01-09T03:28:47.402650Z"
    }
   },
   "outputs": [
    {
     "name": "stdout",
     "output_type": "stream",
     "text": [
      "                        shop_name  shop_id\n",
      "0   !Якутск Орджоникидзе, 56 фран        0\n",
      "1   !Якутск ТЦ \"Центральный\" фран        1\n",
      "2                Адыгея ТЦ \"Мега\"        2\n",
      "3  Балашиха ТРК \"Октябрь-Киномир\"        3\n",
      "4        Волжский ТЦ \"Волга Молл\"        4\n",
      "\n",
      "\n",
      "         item_category_name  item_category_id\n",
      "0  PC - Гарнитуры/Наушники                 0\n",
      "1         Аксессуары - PS2                 1\n",
      "2         Аксессуары - PS3                 2\n",
      "3         Аксессуары - PS4                 3\n",
      "4         Аксессуары - PSP                 4\n",
      "\n",
      "\n",
      "                                            item_name  item_id  \\\n",
      "0          ! ВО ВЛАСТИ НАВАЖДЕНИЯ (ПЛАСТ.)         D        0   \n",
      "1  !ABBYY FineReader 12 Professional Edition Full...        1   \n",
      "2      ***В ЛУЧАХ СЛАВЫ   (UNV)                    D        2   \n",
      "3    ***ГОЛУБАЯ ВОЛНА  (Univ)                      D        3   \n",
      "4        ***КОРОБКА (СТЕКЛО)                       D        4   \n",
      "\n",
      "   item_category_id  \n",
      "0                40  \n",
      "1                76  \n",
      "2                40  \n",
      "3                40  \n",
      "4                40  \n",
      "\n",
      "\n",
      " Note: Total rows in items data 22170 and total unique item_names 22170\n"
     ]
    }
   ],
   "source": [
    "print(shops.head())\n",
    "print(\"\\n\\n\", item_cats.head())\n",
    "print(\"\\n\\n\", items.head())\n",
    "\n",
    "# I saw the data hence for the clean code checking if total row count = total unique item names\n",
    "print(\n",
    "    \"\\n\\n Note: Total rows in items data {} and total unique item_names {}\".format(\n",
    "        items.shape[0], len(items[\"item_name\"].unique())\n",
    "    )\n",
    ")"
   ]
  },
  {
   "cell_type": "code",
   "execution_count": 63,
   "id": "3e3de9f6",
   "metadata": {
    "ExecuteTime": {
     "end_time": "2024-01-09T03:34:40.447820Z",
     "start_time": "2024-01-09T03:34:40.226193Z"
    }
   },
   "outputs": [
    {
     "data": {
      "text/plain": [
       "3452"
      ]
     },
     "execution_count": 63,
     "metadata": {},
     "output_type": "execute_result"
    }
   ],
   "source": [
    "# Splitting shop name to get the city name\n",
    "shops[\"city\"] = shops[\"shop_name\"].str.split(\" \").map(lambda x: x[0])\n",
    "shops[\"city\"] = shops[\"city\"].replace(\"!\", \"\", regex=True)\n",
    "\n",
    "# Label encoding so that it is more readable\n",
    "shops[\"city_code\"] = LabelEncoder().fit_transform(shops[\"city\"])\n",
    "shops.drop([\"city\"], axis=1, inplace=True)\n",
    "shops.drop([\"shop_name\"], axis=1, inplace=True)\n",
    "\n",
    "# Splitting category name to get the item type.\n",
    "item_cats[\"item_cat_split\"] = item_cats[\"item_category_name\"].str.split(\"-\")\n",
    "item_cats[\"type\"] = item_cats[\"item_cat_split\"].map(lambda x: x[0].strip())\n",
    "item_cats[\"type_code\"] = LabelEncoder().fit_transform(item_cats[\"type\"])\n",
    "\n",
    "# Splitting category name to get the item type.\n",
    "item_cats[\"subcat\"] = item_cats[\"item_cat_split\"].map(\n",
    "    lambda x: x[1].strip() if len(x) > 1 else x[0].strip()\n",
    ")\n",
    "item_cats[\"subcat_code\"] = LabelEncoder().fit_transform(item_cats[\"subcat\"])\n",
    "item_cats = item_cats[[\"item_category_id\", \"type_code\", \"subcat_code\"]]\n",
    "\n",
    "# Dropping item names from items df as we discussed\n",
    "# Create the date the product was first sold as a feature\n",
    "items[\"first_sale_date\"] = train.groupby(\"item_id\").agg({\"date_block_num\": \"min\"})[\n",
    "    \"date_block_num\"\n",
    "]\n",
    "# Refine null values in items table\n",
    "items = items.apply(lambda x: x.fillna(x.median()) if x.dtype != \"O\" else x, axis=0)\n",
    "items.drop([\"item_name\"], axis=1, inplace=True)\n",
    "\n",
    "gc.collect()"
   ]
  },
  {
   "cell_type": "code",
   "execution_count": null,
   "id": "0e24daae",
   "metadata": {},
   "outputs": [],
   "source": []
  }
 ],
 "metadata": {
  "kernelspec": {
   "display_name": "Python 3 (ipykernel)",
   "language": "python",
   "name": "python3"
  },
  "language_info": {
   "codemirror_mode": {
    "name": "ipython",
    "version": 3
   },
   "file_extension": ".py",
   "mimetype": "text/x-python",
   "name": "python",
   "nbconvert_exporter": "python",
   "pygments_lexer": "ipython3",
   "version": "3.9.13"
  }
 },
 "nbformat": 4,
 "nbformat_minor": 5
}
